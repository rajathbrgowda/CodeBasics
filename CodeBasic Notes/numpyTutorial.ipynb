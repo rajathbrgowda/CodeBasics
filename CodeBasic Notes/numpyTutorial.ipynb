{
 "cells": [
  {
   "cell_type": "code",
   "execution_count": 23,
   "metadata": {},
   "outputs": [],
   "source": [
    "import numpy as np"
   ]
  },
  {
   "cell_type": "markdown",
   "metadata": {},
   "source": [
    "checking benifits of numpy "
   ]
  },
  {
   "cell_type": "code",
   "execution_count": 24,
   "metadata": {},
   "outputs": [
    {
     "name": "stdout",
     "output_type": "stream",
     "text": [
      "24000\n",
      "8000\n"
     ]
    }
   ],
   "source": [
    "import sys\n",
    "\n",
    "list = range(1000)    #python list\n",
    "print(sys.getsizeof(0)*len(list))  # print memory used in python list\n",
    "\n",
    "array = np.arange(1000)\n",
    "print(array.size*array.itemsize)   #print memory used in numpy array"
   ]
  },
  {
   "cell_type": "code",
   "execution_count": 25,
   "metadata": {},
   "outputs": [
    {
     "name": "stdout",
     "output_type": "stream",
     "text": [
      "Time took from python list:\t 0.16808509826660156\n",
      "Time took from numpy array:\t 27.894020080566406\n"
     ]
    }
   ],
   "source": [
    "import time\n",
    "\n",
    "size=10000000\n",
    "\n",
    "list1 = range(size)\n",
    "list2 = range(size)\n",
    "\n",
    "array1 = np.arange(size)\n",
    "array2 = np.arange(size)\n",
    "\n",
    "#analysing  pyhton list operation \n",
    "startTime = time.time()\n",
    "result = [(x+y) for x,y in zip(list,list2)]\n",
    "print(\"Time took from python list:\\t\",(time.time()-startTime)*1000)\n",
    "\n",
    "#analysing  pyhton list operation \n",
    "startTime2 = time.time()\n",
    "result1 = array1 + array2\n",
    "print(\"Time took from numpy array:\\t\",(time.time()-startTime2)*1000)"
   ]
  },
  {
   "cell_type": "markdown",
   "metadata": {},
   "source": [
    "From geekforgeeks"
   ]
  },
  {
   "cell_type": "code",
   "execution_count": 26,
   "metadata": {},
   "outputs": [
    {
     "name": "stdout",
     "output_type": "stream",
     "text": [
      "\n",
      "Concatenation:\n",
      "Time taken by Lists : 0.017345666885375977 seconds\n",
      "Time taken by NumPy Arrays : 0.0032019615173339844 seconds\n",
      "\n",
      "Dot Product:\n",
      "Time taken by Lists : 0.1394670009613037 seconds\n",
      "Time taken by NumPy Arrays : 0.0012640953063964844 seconds\n",
      "\n",
      "Scalar Addition:\n",
      "Time taken by Lists : 0.052323102951049805 seconds\n",
      "Time taken by NumPy Arrays : 0.0013921260833740234 seconds\n",
      "\n",
      "Deletion: \n",
      "Time taken by Lists : 0.009880781173706055 seconds\n",
      "Time taken by NumPy Arrays : 4.7206878662109375e-05 seconds\n"
     ]
    }
   ],
   "source": [
    "# importing required packages\n",
    "import numpy\n",
    "import time\n",
    "\n",
    "\n",
    "# size of arrays and lists\n",
    "size = 1000000\n",
    "\n",
    "# declaring lists\n",
    "list1 = [i for i in range(size)]\n",
    "list2 = [i for i in range(size)]\n",
    "\n",
    "# declaring arrays\n",
    "array1 = numpy.arange(size)\n",
    "array2 = numpy.arange(size)\n",
    "\n",
    "# Concatenation\n",
    "print(\"\\nConcatenation:\")\n",
    "\n",
    "# list\n",
    "initialTime = time.time()\n",
    "list1 = list1 + list2\n",
    "\n",
    "# calculating execution time\n",
    "print(\"Time taken by Lists :\",\n",
    "\t(time.time() - initialTime),\n",
    "\t\"seconds\")\n",
    "\n",
    "# NumPy array\n",
    "initialTime = time.time()\n",
    "array = numpy.concatenate((array1, array2),\n",
    "\t\t\t\t\t\taxis = 0)\n",
    "\n",
    "# calculating execution time\n",
    "print(\"Time taken by NumPy Arrays :\",\n",
    "\t(time.time() - initialTime),\n",
    "\t\"seconds\")\n",
    "\n",
    "\n",
    "# Dot Product\n",
    "dot = 0\n",
    "print(\"\\nDot Product:\")\n",
    "\n",
    "# list\n",
    "initialTime = time.time()\n",
    "for a, b in zip(list1, list2):\n",
    "\t\tdot = dot + (a * b)\n",
    "\t\t\n",
    "# calculating execution time\n",
    "print(\"Time taken by Lists :\",\n",
    "\t(time.time() - initialTime),\n",
    "\t\"seconds\")\n",
    "\n",
    "# NumPy array\n",
    "initialTime = time.time()\n",
    "array = numpy.dot(array1, array2)\n",
    "\n",
    "# calculating execution time\n",
    "print(\"Time taken by NumPy Arrays :\",\n",
    "\t(time.time() - initialTime),\n",
    "\t\"seconds\")\n",
    "\n",
    "\n",
    "# Scalar Addition\n",
    "print(\"\\nScalar Addition:\")\n",
    "\n",
    "# list\n",
    "initialTime = time.time()\n",
    "list1 =[i + 2 for i in range(size)]\n",
    "\n",
    "# calculating execution time\n",
    "print(\"Time taken by Lists :\",\n",
    "\t(time.time() - initialTime),\n",
    "\t\"seconds\")\n",
    "\n",
    "# NumPy array\n",
    "initialTime = time.time()\n",
    "array1 = array1 + 2\n",
    "\n",
    "# calculating execution time\n",
    "print(\"Time taken by NumPy Arrays :\",\n",
    "\t(time.time() - initialTime),\n",
    "\t\"seconds\")\n",
    "\n",
    "\n",
    "# Deletion\n",
    "print(\"\\nDeletion: \")\n",
    "\n",
    "# list\n",
    "initialTime = time.time()\n",
    "del(list1)\n",
    "\n",
    "# calculating execution time\n",
    "print(\"Time taken by Lists :\",\n",
    "\t(time.time() - initialTime),\n",
    "\t\"seconds\")\n",
    "\n",
    "# NumPy array\n",
    "initialTime = time.time()\n",
    "del(array1)\n",
    "\n",
    "# calculating execution time\n",
    "print(\"Time taken by NumPy Arrays :\",\n",
    "\t(time.time() - initialTime),\n",
    "\t\"seconds\")\n"
   ]
  },
  {
   "cell_type": "markdown",
   "metadata": {},
   "source": [
    "Checking convienence of usage"
   ]
  },
  {
   "cell_type": "code",
   "execution_count": 28,
   "metadata": {},
   "outputs": [
    {
     "name": "stdout",
     "output_type": "stream",
     "text": [
      "a1 + a2 is :\t [5 7 9]\n",
      "a1 - a2 is :\t [-3 -3 -3]\n",
      "a1 * a2 is :\t [ 4 10 18]\n",
      "a1 / a2 is :\t [0.25 0.4  0.5 ]\n"
     ]
    }
   ],
   "source": [
    "a1 = np.array([1,2,3])\n",
    "a2 = np.array([4,5,6])\n",
    "\n",
    "print(\"a1 + a2 is :\\t\", a1 + a2)\n",
    "print(\"a1 - a2 is :\\t\", a1 - a2)\n",
    "print(\"a1 * a2 is :\\t\", a1 * a2)\n",
    "print(\"a1 / a2 is :\\t\", a1 / a2)\n",
    "\n"
   ]
  },
  {
   "cell_type": "markdown",
   "metadata": {},
   "source": [
    "Basic operations"
   ]
  },
  {
   "cell_type": "code",
   "execution_count": 51,
   "metadata": {},
   "outputs": [
    {
     "name": "stdout",
     "output_type": "stream",
     "text": [
      "Accesing array elements:\t 3\n",
      "Print array:\n",
      " [[1 2]\n",
      " [3 4]]\n",
      "Dimension of the array:\t 2\n",
      "Shape of the array:\t (2, 2)\n",
      "Item size:\t 8\n",
      "DataType:\t int64\n",
      "Print array:\n",
      " [[1. 2.]\n",
      " [3. 4.]]\n",
      "Item size:\t 8\n",
      "DataType:\t float64\n",
      "Sige of an array:\t 4\n",
      "Print array:\n",
      " [[1.+0.j 2.+0.j]\n",
      " [3.+0.j 4.+0.j]]\n"
     ]
    }
   ],
   "source": [
    "elementsArray=[1,2,3,4,5]\n",
    "print(\"Accesing array elements:\\t\",elementsArray[2])\n",
    "\n",
    "#creating multidimentional array\n",
    "a = np.array([[1,2],[3,4]])\n",
    "print(\"Print array:\\n\",a)\n",
    "print(\"Dimension of the array:\\t\", a.ndim)\n",
    "print(\"Shape of the array:\\t\", a.shape)\n",
    "\n",
    "print(\"Item size:\\t\",a.itemsize)\n",
    "print(\"DataType:\\t\",a.dtype)\n",
    "\n",
    "#crating array of different data type\n",
    "a_ = np.array([[1,2],[3,4]], dtype=np.float64)\n",
    "print(\"Print array:\\n\",a_)\n",
    "print(\"Item size:\\t\",a_.itemsize)\n",
    "print(\"DataType:\\t\",a_.dtype)\n",
    "\n",
    "print(\"Sige of an array:\\t\",a.size)\n",
    "a1_ = np.array([[1,2],[3,4]], dtype=complex)\n",
    "print(\"Print array:\\n\",a1_)\n"
   ]
  },
  {
   "cell_type": "code",
   "execution_count": 56,
   "metadata": {},
   "outputs": [
    {
     "name": "stdout",
     "output_type": "stream",
     "text": [
      "zero matrix:\n",
      " [[0 0]\n",
      " [0 0]\n",
      " [0 0]]\n",
      "ones matrix:\n",
      " [[1. 1.]\n",
      " [1. 1.]\n",
      " [1. 1.]]\n"
     ]
    }
   ],
   "source": [
    "#creating matix of zeros\n",
    "zmatrix=np.zeros((3,2), dtype=int)    #3 row 2 col \n",
    "print(\"zero matrix:\\n\",zmatrix)\n",
    "\n",
    "omatrix=np.ones((3,2))    #3 row 2 col \n",
    "print(\"ones matrix:\\n\",omatrix)"
   ]
  },
  {
   "cell_type": "code",
   "execution_count": 76,
   "metadata": {},
   "outputs": [
    {
     "name": "stdout",
     "output_type": "stream",
     "text": [
      "Elements in array 3\n",
      "Elements in numpy array [0 1 2 3 4 5 6 7 8 9]\n",
      "Elements in numpy array [0 1 2 3 4]\n",
      "Elements in numpy array [0 2 4 6 8]\n",
      "Elements in numpy array [0.         0.55555556 1.11111111 1.66666667 2.22222222 2.77777778\n",
      " 3.33333333 3.88888889 4.44444444 5.        ]\n"
     ]
    }
   ],
   "source": [
    "#creating array range\n",
    "list= range(10)   # 0-9\n",
    "print(\"Elements in array\", list[3])\n",
    "\n",
    "#numpy array\n",
    "array = np.arange(10)   # 0-9\n",
    "print(\"Elements in numpy array\", array)\n",
    "array = np.arange(0,5)   # 0-4\n",
    "print(\"Elements in numpy array\", array)\n",
    "array = np.arange(0,10,2)   # 0-4 with step of 2 number\n",
    "print(\"Elements in numpy array\", array)\n",
    "array = np.linspace(0,5,10)   # generate 10 numbers between 0 to 5\n",
    "print(\"Elements in numpy array\", array)\n"
   ]
  },
  {
   "cell_type": "code",
   "execution_count": 89,
   "metadata": {},
   "outputs": [
    {
     "name": "stdout",
     "output_type": "stream",
     "text": [
      "[[1 2]\n",
      " [3 4]\n",
      " [5 6]]\n",
      "(3, 2)\n",
      "[[1 2]\n",
      " [3 4]\n",
      " [5 6]]\n",
      "(3, 2)\n"
     ]
    }
   ],
   "source": [
    "#reshape a matrix !codition: match the elements\n",
    "a = np.array([[1,2],[3,4],[5,6]])\n",
    "print(a)\n",
    "print(a.shape)\n",
    "a.reshape(6,1)\n",
    "print(a)\n",
    "print(a.shape)"
   ]
  }
 ],
 "metadata": {
  "interpreter": {
   "hash": "aee8b7b246df8f9039afb4144a1f6fd8d2ca17a180786b69acc140d282b71a49"
  },
  "kernelspec": {
   "display_name": "Python 3.10.2 64-bit",
   "language": "python",
   "name": "python3"
  },
  "language_info": {
   "codemirror_mode": {
    "name": "ipython",
    "version": 3
   },
   "file_extension": ".py",
   "mimetype": "text/x-python",
   "name": "python",
   "nbconvert_exporter": "python",
   "pygments_lexer": "ipython3",
   "version": "3.10.2"
  },
  "orig_nbformat": 4
 },
 "nbformat": 4,
 "nbformat_minor": 2
}
